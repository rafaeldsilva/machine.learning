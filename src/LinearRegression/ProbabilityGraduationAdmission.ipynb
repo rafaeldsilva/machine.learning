{
 "cells": [
  {
   "cell_type": "code",
   "execution_count": 94,
   "source": [
    "# Criar um modelo de regressão que obtem a probabilidade de um estudante ser admitido com base em suas pontuações.\r\n",
    "import pandas as pd\r\n",
    "import numpy as np\r\n",
    "from matplotlib import pyplot as plt\r\n",
    "from sklearn.model_selection import train_test_split\r\n",
    "from sklearn.model_selection import cross_val_score\r\n",
    "from sklearn.model_selection import KFold\r\n",
    "from sklearn.linear_model import LinearRegression\r\n",
    "from sklearn.linear_model import Ridge\r\n",
    "from sklearn.linear_model import Lasso\r\n",
    "from sklearn.linear_model import ElasticNet"
   ],
   "outputs": [],
   "metadata": {}
  },
  {
   "cell_type": "code",
   "execution_count": 95,
   "source": [
    "pd.set_option('display.max_columns', 9)\r\n",
    "dataSet = pd.read_csv('C:/curso.de.machine.learning/src/DataSets/Admission_Predict.csv')\r\n",
    "dataSet.drop('Serial No.', axis=1, inplace=True)"
   ],
   "outputs": [],
   "metadata": {}
  },
  {
   "cell_type": "code",
   "execution_count": 96,
   "source": [
    "dataSet.shape"
   ],
   "outputs": [
    {
     "output_type": "execute_result",
     "data": {
      "text/plain": [
       "(400, 8)"
      ]
     },
     "metadata": {},
     "execution_count": 96
    }
   ],
   "metadata": {}
  },
  {
   "cell_type": "code",
   "execution_count": 97,
   "source": [
    "dataSet.dtypes"
   ],
   "outputs": [
    {
     "output_type": "execute_result",
     "data": {
      "text/plain": [
       "GRE Score              int64\n",
       "TOEFL Score            int64\n",
       "University Rating      int64\n",
       "SOP                  float64\n",
       "LOR                  float64\n",
       "CGPA                 float64\n",
       "Research               int64\n",
       "Chance of Admit      float64\n",
       "dtype: object"
      ]
     },
     "metadata": {},
     "execution_count": 97
    }
   ],
   "metadata": {}
  },
  {
   "cell_type": "code",
   "execution_count": 98,
   "source": [
    "isNullData = dataSet.isnull().sum()\r\n",
    "print(isNullData)"
   ],
   "outputs": [
    {
     "output_type": "stream",
     "name": "stdout",
     "text": [
      "GRE Score            0\n",
      "TOEFL Score          0\n",
      "University Rating    0\n",
      "SOP                  0\n",
      "LOR                  0\n",
      "CGPA                 0\n",
      "Research             0\n",
      "Chance of Admit      0\n",
      "dtype: int64\n"
     ]
    }
   ],
   "metadata": {}
  },
  {
   "cell_type": "code",
   "execution_count": 99,
   "source": [
    "y = dataSet['Chance of Admit']\r\n",
    "x = dataSet.drop('Chance of Admit', axis=1)"
   ],
   "outputs": [],
   "metadata": {}
  },
  {
   "cell_type": "code",
   "execution_count": 100,
   "source": [
    "x_train, x_test, y_train, y_test = train_test_split(x, y, test_size=0.30, random_state=45)"
   ],
   "outputs": [],
   "metadata": {}
  },
  {
   "cell_type": "code",
   "execution_count": 101,
   "source": [
    "linearRegressionModel = LinearRegression()\r\n",
    "linearRegressionModel.fit(x_train, y_train)\r\n",
    "linearRegressionResult = linearRegressionModel.score(x_test, y_test)\r\n",
    "print('Linear:', linearRegressionResult)"
   ],
   "outputs": [
    {
     "output_type": "stream",
     "name": "stdout",
     "text": [
      "Linear: 0.8093428763333979\n"
     ]
    }
   ],
   "metadata": {}
  },
  {
   "cell_type": "code",
   "execution_count": 102,
   "source": [
    "ridgeRegression = Ridge()\r\n",
    "ridgeRegression.fit(x_train, y_train)\r\n",
    "ridgeResult = ridgeRegression.score(x_test, y_test)\r\n",
    "print('Ridge:', ridgeResult)"
   ],
   "outputs": [
    {
     "output_type": "stream",
     "name": "stdout",
     "text": [
      "Ridge: 0.8085345281885273\n"
     ]
    }
   ],
   "metadata": {}
  },
  {
   "cell_type": "code",
   "execution_count": 103,
   "source": [
    "elasticNetModel = ElasticNet()\r\n",
    "elasticNetModel.fit(x_train, y_train)\r\n",
    "elasticNetResult = elasticNetModel.score(x_test, y_test)\r\n",
    "print('ElasticNet:', elasticNetResult)"
   ],
   "outputs": [
    {
     "output_type": "stream",
     "name": "stdout",
     "text": [
      "ElasticNet: 0.5647447563640624\n"
     ]
    }
   ],
   "metadata": {}
  },
  {
   "cell_type": "code",
   "execution_count": 104,
   "source": [
    "lassoModel = Lasso()\r\n",
    "lassoModel.fit(x_train, y_train)\r\n",
    "lassoResult = lassoModel.score(x_test, y_test)\r\n",
    "print('Lasso:', lassoResult)"
   ],
   "outputs": [
    {
     "output_type": "stream",
     "name": "stdout",
     "text": [
      "Lasso: 0.2855728845758697\n"
     ]
    }
   ],
   "metadata": {}
  },
  {
   "cell_type": "code",
   "execution_count": 105,
   "source": [
    "# Validação cruzada Kfold\r\n",
    "kfold = KFold(n_splits=5)\r\n",
    "kfoldResult = cross_val_score(linearRegressionModel, x, y, cv=kfold)\r\n",
    "linearKFoldResult = kfoldResult.mean()\r\n",
    "print('Linear-KFold:', linearKFoldResult)"
   ],
   "outputs": [
    {
     "output_type": "stream",
     "name": "stdout",
     "text": [
      "Linear-KFold: 0.7711794121066361\n"
     ]
    }
   ],
   "metadata": {}
  },
  {
   "cell_type": "code",
   "execution_count": 106,
   "source": [
    "# Validação cruzada Kfold\r\n",
    "kfold = KFold(n_splits=5)\r\n",
    "kfoldResult = cross_val_score(ridgeRegression, x, y, cv=kfold)\r\n",
    "ridgeKFoldResult = kfoldResult.mean()\r\n",
    "print('Ridge-KFold:', ridgeKFoldResult)"
   ],
   "outputs": [
    {
     "output_type": "stream",
     "name": "stdout",
     "text": [
      "Ridge-KFold: 0.7708707501243893\n"
     ]
    }
   ],
   "metadata": {}
  },
  {
   "cell_type": "code",
   "execution_count": 107,
   "source": [
    "# Validação cruzada Kfold\r\n",
    "kfold = KFold(n_splits=5)\r\n",
    "kfoldResult = cross_val_score(elasticNetModel, x, y, cv=kfold)\r\n",
    "elasticNetKFoldResult = kfoldResult.mean()\r\n",
    "print('ElasticNet-KFold:', elasticNetKFoldResult)"
   ],
   "outputs": [
    {
     "output_type": "stream",
     "name": "stdout",
     "text": [
      "ElasticNet-KFold: 0.5018924119815464\n"
     ]
    }
   ],
   "metadata": {}
  },
  {
   "cell_type": "code",
   "execution_count": 108,
   "source": [
    "# Validação cruzada Kfold\r\n",
    "kfold = KFold(n_splits=5)\r\n",
    "kfoldResult = cross_val_score(lassoModel, x, y, cv=kfold)\r\n",
    "lassoKFoldResult = kfoldResult.mean()\r\n",
    "print('Lasso-KFold:', lassoKFoldResult)"
   ],
   "outputs": [
    {
     "output_type": "stream",
     "name": "stdout",
     "text": [
      "Lasso-KFold: 0.2120832416398803\n"
     ]
    }
   ],
   "metadata": {}
  },
  {
   "cell_type": "code",
   "execution_count": 109,
   "source": [
    "# Escolhendo o melhor modelo de regressão\r\n",
    "objectResult = {'Linear': linearRegressionResult, 'Ridge': ridgeResult, 'ElasticNet': elasticNetResult, 'Lasso': lassoResult}\r\n",
    "maxResult = max(objectResult, key=objectResult.get)\r\n",
    "print('Regression Model:', maxResult, '-', 'Value:', objectResult[maxResult])"
   ],
   "outputs": [
    {
     "output_type": "stream",
     "name": "stdout",
     "text": [
      "Regression Model: Linear - Value: 0.8093428763333979\n"
     ]
    }
   ],
   "metadata": {}
  },
  {
   "cell_type": "code",
   "execution_count": 110,
   "source": [
    "# Escolhendo o melhor modelo de validação cruzada Kfold\r\n",
    "objectResultLKfold = {'Linear-KFold': linearKFoldResult, 'Ridge-KFold': ridgeKFoldResult, 'ElasticNet-KFold': elasticNetKFoldResult, 'Lasso-KFold': lassoKFoldResult}\r\n",
    "maxResultKfold = max(objectResultLKfold, key=objectResultLKfold.get)\r\n",
    "print('cross validation:', maxResultKfold, '-', 'Value:', objectResultLKfold[maxResultKfold])"
   ],
   "outputs": [
    {
     "output_type": "stream",
     "name": "stdout",
     "text": [
      "cross validation: Linear-KFold - Value: 0.7711794121066361\n"
     ]
    }
   ],
   "metadata": {}
  },
  {
   "cell_type": "code",
   "execution_count": 111,
   "source": [
    "predictPriceTest = linearRegressionModel.predict(x_test)\r\n",
    "newData  = pd.DataFrame(x_test)\r\n",
    "newData.insert(0, 'Chance of Admit', predictPriceTest)\r\n",
    "newData.head(120)"
   ],
   "outputs": [
    {
     "output_type": "execute_result",
     "data": {
      "text/html": [
       "<div>\n",
       "<style scoped>\n",
       "    .dataframe tbody tr th:only-of-type {\n",
       "        vertical-align: middle;\n",
       "    }\n",
       "\n",
       "    .dataframe tbody tr th {\n",
       "        vertical-align: top;\n",
       "    }\n",
       "\n",
       "    .dataframe thead th {\n",
       "        text-align: right;\n",
       "    }\n",
       "</style>\n",
       "<table border=\"1\" class=\"dataframe\">\n",
       "  <thead>\n",
       "    <tr style=\"text-align: right;\">\n",
       "      <th></th>\n",
       "      <th>Chance of Admit</th>\n",
       "      <th>GRE Score</th>\n",
       "      <th>TOEFL Score</th>\n",
       "      <th>University Rating</th>\n",
       "      <th>SOP</th>\n",
       "      <th>LOR</th>\n",
       "      <th>CGPA</th>\n",
       "      <th>Research</th>\n",
       "    </tr>\n",
       "  </thead>\n",
       "  <tbody>\n",
       "    <tr>\n",
       "      <th>255</th>\n",
       "      <td>0.692759</td>\n",
       "      <td>307</td>\n",
       "      <td>110</td>\n",
       "      <td>4</td>\n",
       "      <td>4.0</td>\n",
       "      <td>4.5</td>\n",
       "      <td>8.37</td>\n",
       "      <td>0</td>\n",
       "    </tr>\n",
       "    <tr>\n",
       "      <th>346</th>\n",
       "      <td>0.515812</td>\n",
       "      <td>304</td>\n",
       "      <td>97</td>\n",
       "      <td>2</td>\n",
       "      <td>1.5</td>\n",
       "      <td>2.0</td>\n",
       "      <td>7.64</td>\n",
       "      <td>0</td>\n",
       "    </tr>\n",
       "    <tr>\n",
       "      <th>228</th>\n",
       "      <td>0.729467</td>\n",
       "      <td>318</td>\n",
       "      <td>112</td>\n",
       "      <td>3</td>\n",
       "      <td>4.0</td>\n",
       "      <td>3.5</td>\n",
       "      <td>8.67</td>\n",
       "      <td>0</td>\n",
       "    </tr>\n",
       "    <tr>\n",
       "      <th>384</th>\n",
       "      <td>0.965937</td>\n",
       "      <td>340</td>\n",
       "      <td>113</td>\n",
       "      <td>4</td>\n",
       "      <td>5.0</td>\n",
       "      <td>5.0</td>\n",
       "      <td>9.74</td>\n",
       "      <td>1</td>\n",
       "    </tr>\n",
       "    <tr>\n",
       "      <th>269</th>\n",
       "      <td>0.696963</td>\n",
       "      <td>308</td>\n",
       "      <td>108</td>\n",
       "      <td>4</td>\n",
       "      <td>4.5</td>\n",
       "      <td>5.0</td>\n",
       "      <td>8.34</td>\n",
       "      <td>0</td>\n",
       "    </tr>\n",
       "    <tr>\n",
       "      <th>...</th>\n",
       "      <td>...</td>\n",
       "      <td>...</td>\n",
       "      <td>...</td>\n",
       "      <td>...</td>\n",
       "      <td>...</td>\n",
       "      <td>...</td>\n",
       "      <td>...</td>\n",
       "      <td>...</td>\n",
       "    </tr>\n",
       "    <tr>\n",
       "      <th>399</th>\n",
       "      <td>0.926974</td>\n",
       "      <td>333</td>\n",
       "      <td>117</td>\n",
       "      <td>4</td>\n",
       "      <td>5.0</td>\n",
       "      <td>4.0</td>\n",
       "      <td>9.66</td>\n",
       "      <td>1</td>\n",
       "    </tr>\n",
       "    <tr>\n",
       "      <th>216</th>\n",
       "      <td>0.855838</td>\n",
       "      <td>322</td>\n",
       "      <td>112</td>\n",
       "      <td>4</td>\n",
       "      <td>4.5</td>\n",
       "      <td>4.5</td>\n",
       "      <td>9.26</td>\n",
       "      <td>1</td>\n",
       "    </tr>\n",
       "    <tr>\n",
       "      <th>397</th>\n",
       "      <td>0.903676</td>\n",
       "      <td>330</td>\n",
       "      <td>116</td>\n",
       "      <td>4</td>\n",
       "      <td>5.0</td>\n",
       "      <td>4.5</td>\n",
       "      <td>9.45</td>\n",
       "      <td>1</td>\n",
       "    </tr>\n",
       "    <tr>\n",
       "      <th>271</th>\n",
       "      <td>0.526897</td>\n",
       "      <td>299</td>\n",
       "      <td>96</td>\n",
       "      <td>2</td>\n",
       "      <td>1.5</td>\n",
       "      <td>2.0</td>\n",
       "      <td>7.86</td>\n",
       "      <td>0</td>\n",
       "    </tr>\n",
       "    <tr>\n",
       "      <th>80</th>\n",
       "      <td>0.642895</td>\n",
       "      <td>312</td>\n",
       "      <td>105</td>\n",
       "      <td>3</td>\n",
       "      <td>2.0</td>\n",
       "      <td>3.0</td>\n",
       "      <td>8.02</td>\n",
       "      <td>1</td>\n",
       "    </tr>\n",
       "  </tbody>\n",
       "</table>\n",
       "<p>120 rows × 8 columns</p>\n",
       "</div>"
      ],
      "text/plain": [
       "     Chance of Admit  GRE Score  TOEFL Score  University Rating  SOP  LOR  \\\n",
       "255         0.692759        307          110                  4  4.0  4.5   \n",
       "346         0.515812        304           97                  2  1.5  2.0   \n",
       "228         0.729467        318          112                  3  4.0  3.5   \n",
       "384         0.965937        340          113                  4  5.0  5.0   \n",
       "269         0.696963        308          108                  4  4.5  5.0   \n",
       "..               ...        ...          ...                ...  ...  ...   \n",
       "399         0.926974        333          117                  4  5.0  4.0   \n",
       "216         0.855838        322          112                  4  4.5  4.5   \n",
       "397         0.903676        330          116                  4  5.0  4.5   \n",
       "271         0.526897        299           96                  2  1.5  2.0   \n",
       "80          0.642895        312          105                  3  2.0  3.0   \n",
       "\n",
       "     CGPA  Research  \n",
       "255  8.37         0  \n",
       "346  7.64         0  \n",
       "228  8.67         0  \n",
       "384  9.74         1  \n",
       "269  8.34         0  \n",
       "..    ...       ...  \n",
       "399  9.66         1  \n",
       "216  9.26         1  \n",
       "397  9.45         1  \n",
       "271  7.86         0  \n",
       "80   8.02         1  \n",
       "\n",
       "[120 rows x 8 columns]"
      ]
     },
     "metadata": {},
     "execution_count": 111
    }
   ],
   "metadata": {}
  }
 ],
 "metadata": {
  "orig_nbformat": 4,
  "language_info": {
   "name": "python",
   "version": "3.8.8",
   "mimetype": "text/x-python",
   "codemirror_mode": {
    "name": "ipython",
    "version": 3
   },
   "pygments_lexer": "ipython3",
   "nbconvert_exporter": "python",
   "file_extension": ".py"
  },
  "kernelspec": {
   "name": "python3",
   "display_name": "Python 3.8.8 64-bit"
  },
  "interpreter": {
   "hash": "34b32c09fca0dd30a3ba6c40048e557e98de75de4e8570002b37180823920224"
  }
 },
 "nbformat": 4,
 "nbformat_minor": 2
}